{
 "cells": [
  {
   "cell_type": "code",
   "execution_count": 45,
   "id": "7d9a58fc",
   "metadata": {},
   "outputs": [],
   "source": [
    "import cv2\n",
    "import numpy as np\n",
    "from matplotlib import pyplot as plt\n",
    "import random\n",
    "from sklearn.metrics import confusion_matrix, f1_score, accuracy_score, classification_report\n",
    "from sklearn.model_selection import train_test_split\n",
    "import os"
   ]
  },
  {
   "cell_type": "code",
   "execution_count": 97,
   "id": "30d9e00c",
   "metadata": {},
   "outputs": [],
   "source": [
    "# Function that traverse through given directory and for every directory returns \n",
    "# lists of image and the corresponding emotion\n",
    "\n",
    "def load_data(data_path):\n",
    "\n",
    "    data_dir_list = os.listdir(data_path)\n",
    "\n",
    "    img_data_list = []\n",
    "    img_label_list = []\n",
    "\n",
    "    # Traverse through each folder\n",
    "    for dataset in data_dir_list:\n",
    "        if os.path.isdir(data_path + '/' +  dataset):\n",
    "            img_list=os.listdir(data_path+'/'+ dataset)\n",
    "            \n",
    "            # Resize each image\n",
    "            for img in img_list:\n",
    "                input_img=cv2.imread(data_path + '/'+ dataset + '/'+ img )\n",
    "\n",
    "                # Convert image to grayscale\n",
    "                input_img_gray = cv2.cvtColor(input_img, cv2.COLOR_BGR2GRAY)\n",
    "                \n",
    "                input_img_resize=cv2.resize(input_img_gray,(48,48))\n",
    "                img_data_list.append(input_img_resize)\n",
    "                img_label_list.append(dataset)\n",
    "                \n",
    "    img_data = np.array(img_data_list)\n",
    "    img_labels = np.array(img_label_list)\n",
    "\n",
    "    return img_data, img_labels"
   ]
  },
  {
   "cell_type": "code",
   "execution_count": 101,
   "id": "996b7bbf",
   "metadata": {},
   "outputs": [
    {
     "name": "stdout",
     "output_type": "stream",
     "text": [
      "(327, 48, 48)\n",
      "(327,)\n",
      "surprise\n",
      "surprise\n",
      "surprise\n",
      "surprise\n",
      "surprise\n",
      "surprise\n",
      "surprise\n",
      "surprise\n",
      "surprise\n",
      "surprise\n"
     ]
    }
   ],
   "source": [
    "image_data, image_labels=load_data('./datasets/ck+/')\n",
    "print(image_data.shape)\n",
    "print(image_labels.shape)\n",
    "for i in range(50,60):\n",
    "    print(image_labels[i])"
   ]
  },
  {
   "cell_type": "code",
   "execution_count": 47,
   "id": "ac847d51",
   "metadata": {},
   "outputs": [],
   "source": [
    "# Normalize the pixel values to the range [0, 1]\n",
    "\n",
    "def normalize_data(data):\n",
    "\n",
    "    return data.astype('float32') / 255.0"
   ]
  },
  {
   "cell_type": "code",
   "execution_count": 49,
   "id": "ebae99ad",
   "metadata": {},
   "outputs": [],
   "source": [
    "# Because faces should be symetrical, but they aren't perfectly symetric, one possible way to make more data is\n",
    "# to add mirrored images of faces. In this way, we are doubling instances of classes. We can exclude some classes\n",
    "# from being processed this way \n",
    "\n",
    "    \n",
    "def add_mirror_images(images, labels, exclude = []):\n",
    "    \n",
    "    all_images_list = []\n",
    "    all_labels_list = []\n",
    "    n = len(images)\n",
    "    \n",
    "    for i in range(n):\n",
    "        \n",
    "        all_images_list.append(images[i])\n",
    "        all_labels_list.append(labels[i])\n",
    "        \n",
    "        # Don't perform mirroring if label is set to excluded\n",
    "        if labels[i] not in exclude:\n",
    "            # Mirror the image horizontally\n",
    "            mirrored_image = cv2.flip(images[i], 1)\n",
    "            all_images_list.append(mirrored_image)\n",
    "            all_labels_list.append(labels[i]) \n",
    "        \n",
    "    all_images = np.array(all_images_list)\n",
    "    all_labels = np.array(all_labels_list)\n",
    "    \n",
    "    return all_images, all_labels "
   ]
  },
  {
   "cell_type": "code",
   "execution_count": 50,
   "id": "5960539a",
   "metadata": {},
   "outputs": [],
   "source": [
    "# Assuming 'image' is your 48x48 image with values between 0 and 1\n",
    "\n",
    "def plot_image(image, label):\n",
    "    plt.imshow(image, cmap='gray') \n",
    "    plt.axis('off')  \n",
    "    plt.show()\n",
    "    print(label)"
   ]
  },
  {
   "cell_type": "code",
   "execution_count": 51,
   "id": "c3a97bfb",
   "metadata": {},
   "outputs": [],
   "source": [
    "# Function for making Bar plot which shows count of every emotion in alphabetical order\n",
    "\n",
    "def plot_count(images, labels):\n",
    "    \n",
    "    labels_set = set(labels)\n",
    "    label_counts = {}\n",
    "    \n",
    "    for label in labels_set:\n",
    "        label_counts[label] = 0\n",
    "    \n",
    "    for label in labels_set:\n",
    "        for i in range(len(images)):\n",
    "            if (labels[i] == label):\n",
    "                label_counts[label] += 1\n",
    "    \n",
    "    # Sort dictionary in order to make same bar plot every time\n",
    "    sorted_label_keys = sorted(label_counts.keys())\n",
    "    sorted_label_counts = {key: label_counts[key] for key in sorted_label_keys}\n",
    "    \n",
    "    # Create a bar plot\n",
    "    plt.figure(figsize=(10, 6)) \n",
    "    plt.bar(sorted_label_counts.keys(), sorted_label_counts.values(), color='skyblue')\n",
    "    plt.xlabel('Emotion')\n",
    "    plt.ylabel('Count')\n",
    "    plt.title('Emotion Count')\n",
    "    plt.xticks(rotation=45) \n",
    "    \n",
    "    # Display the counts above each bar\n",
    "    for i, count in enumerate(sorted_label_counts.values()):\n",
    "        plt.text(i, count, str(count), ha='center', va='bottom')\n",
    "\n",
    "    plt.tight_layout()\n",
    "    plt.show()"
   ]
  },
  {
   "cell_type": "code",
   "execution_count": 52,
   "id": "85d2d210",
   "metadata": {},
   "outputs": [],
   "source": [
    "# Function which will delete random instances from images if they exceed the number upto\n",
    "\n",
    "def _decrease_bigger_indexes(target_images_indexes, random_index):\n",
    "    for i in range(len(target_images_indexes)):\n",
    "        if target_images_indexes[i] > random_index:\n",
    "            target_images_indexes[i] -= 1\n",
    "            \n",
    "    return target_images_indexes    \n",
    "    \n",
    "def random_delete_upto(images, labels, target_label, upto, seed = None):\n",
    "    \n",
    "    # Set seed\n",
    "    if seed is not None:\n",
    "        random.seed(seed)\n",
    "        np.random.seed(seed)\n",
    "        \n",
    "    target_images_indexes = []\n",
    "    data_images = images\n",
    "    data_labels = labels\n",
    "    \n",
    "    # Finding all target images\n",
    "    for i in range(len(images)):\n",
    "        if target_label == labels[i]:\n",
    "            target_images_indexes.append(i)\n",
    "            \n",
    "         \n",
    "    # Randomly deleting images and corresponsive labels\n",
    "    n = len(target_images_indexes)\n",
    "    while upto < n:\n",
    "        random_index = random.choice(target_images_indexes)\n",
    "        target_images_indexes.remove(random_index)\n",
    "        data_images = np.delete(data_images, random_index, axis=0)\n",
    "        data_labels = np.delete(data_labels, random_index, axis=0)\n",
    "        target_images_indexes = _decrease_bigger_indexes(target_images_indexes, random_index)\n",
    "        n -= 1\n",
    "\n",
    "    return data_images, data_labels"
   ]
  },
  {
   "cell_type": "code",
   "execution_count": 53,
   "id": "2b046264",
   "metadata": {},
   "outputs": [],
   "source": [
    "def generate_report(y_test, y_pred):\n",
    "\n",
    "    conf_matrix = confusion_matrix(y_test, y_pred)\n",
    "\n",
    "    f1 = f1_score(y_test, y_pred, average='weighted')\n",
    "\n",
    "    accuracy = accuracy_score(y_test, y_pred)\n",
    "    \n",
    "    class_report = classification_report(y_test, y_pred)\n",
    "    \n",
    "    print(\"Confusion matrix: \\n\", conf_matrix,\n",
    "         \"\\nF1 score: \\n\", f1,\n",
    "         \"\\nAccuracy: \\n\", accuracy,\n",
    "         \"\\nClassification report: \\n\", class_report)"
   ]
  },
  {
   "cell_type": "code",
   "execution_count": 54,
   "id": "8a9b9a2b",
   "metadata": {},
   "outputs": [],
   "source": [
    "# Libraries for showing lbp_example\n",
    "\n",
    "from skimage.transform import rotate\n",
    "from skimage.feature import local_binary_pattern\n",
    "from skimage import data\n",
    "from skimage.color import label2rgb"
   ]
  },
  {
   "cell_type": "code",
   "execution_count": 55,
   "id": "35bac703",
   "metadata": {},
   "outputs": [],
   "source": [
    "def compute_lbp(image, radius=1):\n",
    "\n",
    "    points = 8 * radius\n",
    "\n",
    "    # Compute LBP features\n",
    "    lbp_image = feature.local_binary_pattern(image, P=points, R=radius, method=\"nri_uniform\")\n",
    "    n_bins = int(lbp_image.max() + 1)\n",
    "    lbp_histogram, _ = np.histogram(lbp_image.ravel(), bins=n_bins, range=(0, n_bins))\n",
    "\n",
    "    # Normalize LBP histogram\n",
    "    lbp_histogram = lbp_histogram.astype(\"float\")\n",
    "    lbp_histogram /= (lbp_histogram.sum() + 1e-6)\n",
    "    \n",
    "    return lbp_histogram"
   ]
  },
  {
   "cell_type": "code",
   "execution_count": 56,
   "id": "f3288d8c",
   "metadata": {},
   "outputs": [],
   "source": [
    "def plot_lbp_hist(lbp_histogram):\n",
    "    \n",
    "    # Create a range for the x-axis (bin numbers)\n",
    "    bins = np.arange(len(lbp_histogram))\n",
    "\n",
    "    # Create a bar plot of the LBP histogram\n",
    "    plt.bar(bins, lbp_histogram, width=1, align='center')\n",
    "\n",
    "    plt.xlabel('LBP Value')\n",
    "    plt.ylabel('Frequency')\n",
    "    plt.title('LBP Histogram')\n",
    "\n",
    "    plt.show()"
   ]
  },
  {
   "cell_type": "code",
   "execution_count": 57,
   "id": "beea363c",
   "metadata": {},
   "outputs": [],
   "source": [
    "def _overlay_labels(image, lbp, labels):\n",
    "    mask = np.logical_or.reduce([lbp == each for each in labels])\n",
    "    return label2rgb(mask, image=image, bg_label=0, alpha=0.5)\n",
    "\n",
    "\n",
    "def _highlight_bars(bars, indexes):\n",
    "    for i in indexes:\n",
    "        bars[i].set_facecolor('r')\n",
    "\n",
    "\n",
    "\n",
    "def _hist(ax, lbp):\n",
    "    n_bins = int(lbp.max() + 1)\n",
    "    return ax.hist(lbp.ravel(), density=True, bins=n_bins, range=(0, n_bins),\n",
    "                   facecolor='0.5')\n",
    "\n",
    "\n",
    "# plot histograms of LBP of textures\n",
    "def plot_lbp_example(image, radius=1):\n",
    "    \n",
    "    points = 8 * radius\n",
    "    \n",
    "    lbp = local_binary_pattern(image, points, radius, method=\"uniform\")\n",
    "\n",
    "    fig, (ax_img, ax_hist) = plt.subplots(nrows=2, ncols=3, figsize=(9, 6))\n",
    "    plt.gray()\n",
    "\n",
    "    titles = ('edge', 'flat', 'corner')\n",
    "    w = width = radius - 1\n",
    "    edge_labels = range(points // 2 - w, points // 2 + w + 1)\n",
    "    flat_labels = list(range(0, w + 1)) + list(range(points - w, points + 2))\n",
    "    i_14 = points // 4            # 1/4th of the histogram\n",
    "    i_34 = 3 * (points // 4)      # 3/4th of the histogram\n",
    "    corner_labels = (list(range(i_14 - w, i_14 + w + 1)) +\n",
    "                     list(range(i_34 - w, i_34 + w + 1)))\n",
    "\n",
    "    label_sets = (edge_labels, flat_labels, corner_labels)\n",
    "\n",
    "    for ax, labels in zip(ax_img, label_sets):\n",
    "        ax.imshow(_overlay_labels(image, lbp, labels))\n",
    "\n",
    "    for ax, labels, name in zip(ax_hist, label_sets, titles):\n",
    "        counts, _, bars = _hist(ax, lbp)\n",
    "        _highlight_bars(bars, labels)\n",
    "        ax.set_ylim(top=np.max(counts[:-1]))\n",
    "        ax.set_xlim(right=points + 2)\n",
    "        ax.set_title(name)\n",
    "\n",
    "    ax_hist[0].set_ylabel('Percentage')\n",
    "    for ax in ax_img:\n",
    "        ax.axis('off')"
   ]
  },
  {
   "cell_type": "code",
   "execution_count": 58,
   "id": "007280e2",
   "metadata": {},
   "outputs": [],
   "source": [
    "ROWS = 64\n",
    "COLS = 64\n",
    "NUM_OF_CHANNELS = 3\n",
    "NUM_OF_CLASSES = 62"
   ]
  },
  {
   "cell_type": "code",
   "execution_count": 59,
   "id": "873c861e",
   "metadata": {},
   "outputs": [],
   "source": [
    "\n",
    "import tensorflow as tf\n",
    "from tensorflow import keras\n",
    "from tensorflow.keras.models import Sequential\n",
    "from tensorflow.keras.layers import Input, Conv2D, MaxPool2D, Dense, Dropout, Flatten, BatchNormalization\n",
    "from tensorflow.keras import utils\n",
    "from tensorflow.keras.optimizers import Adam\n",
    "from tensorflow.keras import regularizers\n"
   ]
  },
  {
   "cell_type": "code",
   "execution_count": 111,
   "id": "d71a75e9",
   "metadata": {},
   "outputs": [],
   "source": [
    "\n",
    "from sklearn.model_selection import train_test_split\n",
    "# Da bismo dobili sve jedinstvene vrednosti liste y_stratify koristimo klasu Counter iz paketa\n",
    "# collections\n",
    "from collections import Counter\n"
   ]
  },
  {
   "cell_type": "code",
   "execution_count": 112,
   "id": "869019f0",
   "metadata": {},
   "outputs": [
    {
     "name": "stdout",
     "output_type": "stream",
     "text": [
      "Hi there!\n"
     ]
    }
   ],
   "source": [
    "print('Hi there!')\n",
    "\n",
    "#Alexnet arhitektura\n",
    "\n",
    "alexnet_model = Sequential([\n",
    "    Conv2D(96, kernel_size=(11,11), strides=(1,1), padding='same', activation='relu', input_shape=(ROWS, COLS, NUM_OF_CHANNELS)),\n",
    "    MaxPool2D(pool_size=(3,3), strides=(2,2)),\n",
    "    Conv2D(256, kernel_size=(5,5), strides=(1,1), padding='same', activation='relu'),\n",
    "    MaxPool2D(pool_size=(3,3), strides=(2,2)),\n",
    "    Conv2D(384, kernel_size=(3,3), strides=(1,1), padding='same', activation='relu'),\n",
    "    Conv2D(384, kernel_size=(3,3), strides=(1,1), padding='same', activation='relu'),\n",
    "    Conv2D(256, kernel_size=(3,3), strides=(1,1), padding='same', activation='relu'),\n",
    "    MaxPool2D(pool_size=(3,3), strides=(2,2)),\n",
    "    Flatten(),\n",
    "    Dropout(0.5),\n",
    "    Dense(4096, activation='relu'),\n",
    "    Dropout(0.5),\n",
    "    Dense(4096, activation='relu'),\n",
    "    Dense(NUM_OF_CLASSES, activation='softmax')\n",
    "])"
   ]
  },
  {
   "cell_type": "code",
   "execution_count": 113,
   "id": "48765a89",
   "metadata": {},
   "outputs": [
    {
     "name": "stdout",
     "output_type": "stream",
     "text": [
      "Model: \"sequential_3\"\n",
      "_________________________________________________________________\n",
      " Layer (type)                Output Shape              Param #   \n",
      "=================================================================\n",
      " conv2d_15 (Conv2D)          (None, 64, 64, 96)        34944     \n",
      "                                                                 \n",
      " max_pooling2d_9 (MaxPooling  (None, 31, 31, 96)       0         \n",
      " 2D)                                                             \n",
      "                                                                 \n",
      " conv2d_16 (Conv2D)          (None, 31, 31, 256)       614656    \n",
      "                                                                 \n",
      " max_pooling2d_10 (MaxPoolin  (None, 15, 15, 256)      0         \n",
      " g2D)                                                            \n",
      "                                                                 \n",
      " conv2d_17 (Conv2D)          (None, 15, 15, 384)       885120    \n",
      "                                                                 \n",
      " conv2d_18 (Conv2D)          (None, 15, 15, 384)       1327488   \n",
      "                                                                 \n",
      " conv2d_19 (Conv2D)          (None, 15, 15, 256)       884992    \n",
      "                                                                 \n",
      " max_pooling2d_11 (MaxPoolin  (None, 7, 7, 256)        0         \n",
      " g2D)                                                            \n",
      "                                                                 \n",
      " flatten_3 (Flatten)         (None, 12544)             0         \n",
      "                                                                 \n",
      " dropout_6 (Dropout)         (None, 12544)             0         \n",
      "                                                                 \n",
      " dense_9 (Dense)             (None, 4096)              51384320  \n",
      "                                                                 \n",
      " dropout_7 (Dropout)         (None, 4096)              0         \n",
      "                                                                 \n",
      " dense_10 (Dense)            (None, 4096)              16781312  \n",
      "                                                                 \n",
      " dense_11 (Dense)            (None, 62)                254014    \n",
      "                                                                 \n",
      "=================================================================\n",
      "Total params: 72,166,846\n",
      "Trainable params: 72,166,846\n",
      "Non-trainable params: 0\n",
      "_________________________________________________________________\n"
     ]
    }
   ],
   "source": [
    "alexnet_model.summary()"
   ]
  },
  {
   "cell_type": "code",
   "execution_count": 64,
   "id": "f032a5de",
   "metadata": {},
   "outputs": [],
   "source": [
    "EPOCHS = 50\n",
    "BATCH_SIZE = 128"
   ]
  },
  {
   "cell_type": "code",
   "execution_count": 114,
   "id": "6613cea7",
   "metadata": {},
   "outputs": [],
   "source": [
    "alexnet_model.compile(loss='categorical_crossentropy', optimizer=Adam(0.001), metrics=['accuracy'])\n"
   ]
  },
  {
   "cell_type": "code",
   "execution_count": null,
   "id": "a492ece6",
   "metadata": {},
   "outputs": [],
   "source": []
  },
  {
   "cell_type": "code",
   "execution_count": null,
   "id": "595fb5ce",
   "metadata": {},
   "outputs": [],
   "source": [
    "# Treniramo model\n",
    "history = alexnet_model.fit(X_train, y_train, batch_size=BATCH_SIZE, epochs=EPOCHS, validation_split=0.2, verbose=1)"
   ]
  },
  {
   "cell_type": "code",
   "execution_count": 108,
   "id": "76a5d341",
   "metadata": {},
   "outputs": [
    {
     "name": "stdout",
     "output_type": "stream",
     "text": [
      "(327, 48, 48)\n",
      "(327,)\n",
      "(327, 48, 48)\n",
      "(654, 48, 48)\n",
      "(654,)\n",
      "contempt\n"
     ]
    },
    {
     "data": {
      "image/png": "[encoded data removed]",
      "text/plain": [
       "<Figure size 640x480 with 1 Axes>"
      ]
     },
     "metadata": {},
     "output_type": "display_data"
    },
    {
     "name": "stdout",
     "output_type": "stream",
     "text": [
      "contempt\n",
      "------------------------------------------------\n",
      "New stage!\n"
     ]
    },
    {
     "data": {
      "image/png": "[encoded data removed]",
      "text/plain": [
       "<Figure size 1000x600 with 1 Axes>"
      ]
     },
     "metadata": {},
     "output_type": "display_data"
    }
   ],
   "source": [
    "image_data, image_labels=load_data('./datasets/ck+/')\n",
    "print(image_data.shape)\n",
    "print(image_labels.shape)\n",
    "#for i in range(50,60):\n",
    "#    print(image_labels[i])\n",
    "image_data=normalize_data(image_data)\n",
    "print(image_data.shape)\n",
    "all_images, all_labels=add_mirror_images(image_data, image_labels)\n",
    "print(all_images.shape)\n",
    "print(all_labels.shape)\n",
    "print(all_labels[0])\n",
    "plot_image(all_images[0], all_labels[0])\n",
    "print('------------------------------------------------')\n",
    "print('New stage!')\n",
    "plot_count(all_images, all_labels)"
   ]
  },
  {
   "cell_type": "code",
   "execution_count": 119,
   "id": "e4b7ca9f",
   "metadata": {},
   "outputs": [
    {
     "name": "stdout",
     "output_type": "stream",
     "text": [
      "Splitting data into train, test and validation sets...\n"
     ]
    }
   ],
   "source": [
    "print(\"Splitting data into train, test and validation sets...\")\n",
    "X_train_val, X_test, y_train_val, y_test = train_test_split(\n",
    "            all_images, all_labels, test_size=0.15, random_state=7)\n",
    "\n",
    "X_train, X_val, y_train, y_val = train_test_split(\n",
    "            X_train_val, y_train_val, test_size=0.15, random_state=7)"
   ]
  },
  {
   "cell_type": "code",
   "execution_count": 121,
   "id": "542cde0e",
   "metadata": {},
   "outputs": [
    {
     "name": "stdout",
     "output_type": "stream",
     "text": [
      "Epoch 1/50\n"
     ]
    },
    {
     "ename": "ValueError",
     "evalue": "in user code:\n\n    File \"/home/ptesic@syrmia.com/.local/lib/python3.8/site-packages/keras/engine/training.py\", line 1284, in train_function  *\n        return step_function(self, iterator)\n    File \"/home/ptesic@syrmia.com/.local/lib/python3.8/site-packages/keras/engine/training.py\", line 1268, in step_function  **\n        outputs = model.distribute_strategy.run(run_step, args=(data,))\n    File \"/home/ptesic@syrmia.com/.local/lib/python3.8/site-packages/keras/engine/training.py\", line 1249, in run_step  **\n        outputs = model.train_step(data)\n    File \"/home/ptesic@syrmia.com/.local/lib/python3.8/site-packages/keras/engine/training.py\", line 1050, in train_step\n        y_pred = self(x, training=True)\n    File \"/home/ptesic@syrmia.com/.local/lib/python3.8/site-packages/keras/utils/traceback_utils.py\", line 70, in error_handler\n        raise e.with_traceback(filtered_tb) from None\n    File \"/home/ptesic@syrmia.com/.local/lib/python3.8/site-packages/keras/engine/input_spec.py\", line 298, in assert_input_compatibility\n        raise ValueError(\n\n    ValueError: Input 0 of layer \"sequential_3\" is incompatible with the layer: expected shape=(None, 64, 64, 3), found shape=(None, 48, 48)\n",
     "output_type": "error",
     "traceback": [
      "\u001b[0;31m---------------------------------------------------------------------------\u001b[0m",
      "\u001b[0;31mValueError\u001b[0m                                Traceback (most recent call last)",
      "Cell \u001b[0;32mIn[121], line 2\u001b[0m\n\u001b[1;32m      1\u001b[0m \u001b[38;5;66;03m#Treniramo model\u001b[39;00m\n\u001b[0;32m----> 2\u001b[0m history \u001b[38;5;241m=\u001b[39m \u001b[43malexnet_model\u001b[49m\u001b[38;5;241;43m.\u001b[39;49m\u001b[43mfit\u001b[49m\u001b[43m(\u001b[49m\u001b[43mX_train\u001b[49m\u001b[43m,\u001b[49m\u001b[43m \u001b[49m\u001b[43my_train\u001b[49m\u001b[43m,\u001b[49m\u001b[43m \u001b[49m\u001b[43mbatch_size\u001b[49m\u001b[38;5;241;43m=\u001b[39;49m\u001b[43mBATCH_SIZE\u001b[49m\u001b[43m,\u001b[49m\u001b[43m \u001b[49m\u001b[43mepochs\u001b[49m\u001b[38;5;241;43m=\u001b[39;49m\u001b[43mEPOCHS\u001b[49m\u001b[43m,\u001b[49m\u001b[43m \u001b[49m\u001b[43mvalidation_split\u001b[49m\u001b[38;5;241;43m=\u001b[39;49m\u001b[38;5;241;43m0.2\u001b[39;49m\u001b[43m,\u001b[49m\u001b[43m \u001b[49m\u001b[43mverbose\u001b[49m\u001b[38;5;241;43m=\u001b[39;49m\u001b[38;5;241;43m1\u001b[39;49m\u001b[43m)\u001b[49m\n",
      "File \u001b[0;32m~/.local/lib/python3.8/site-packages/keras/utils/traceback_utils.py:70\u001b[0m, in \u001b[0;36mfilter_traceback.<locals>.error_handler\u001b[0;34m(*args, **kwargs)\u001b[0m\n\u001b[1;32m     67\u001b[0m     filtered_tb \u001b[38;5;241m=\u001b[39m _process_traceback_frames(e\u001b[38;5;241m.\u001b[39m__traceback__)\n\u001b[1;32m     68\u001b[0m     \u001b[38;5;66;03m# To get the full stack trace, call:\u001b[39;00m\n\u001b[1;32m     69\u001b[0m     \u001b[38;5;66;03m# `tf.debugging.disable_traceback_filtering()`\u001b[39;00m\n\u001b[0;32m---> 70\u001b[0m     \u001b[38;5;28;01mraise\u001b[39;00m e\u001b[38;5;241m.\u001b[39mwith_traceback(filtered_tb) \u001b[38;5;28;01mfrom\u001b[39;00m \u001b[38;5;28;01mNone\u001b[39;00m\n\u001b[1;32m     71\u001b[0m \u001b[38;5;28;01mfinally\u001b[39;00m:\n\u001b[1;32m     72\u001b[0m     \u001b[38;5;28;01mdel\u001b[39;00m filtered_tb\n",
      "File \u001b[0;32m/tmp/__autograph_generated_file4hasrz63.py:15\u001b[0m, in \u001b[0;36mouter_factory.<locals>.inner_factory.<locals>.tf__train_function\u001b[0;34m(iterator)\u001b[0m\n\u001b[1;32m     13\u001b[0m \u001b[38;5;28;01mtry\u001b[39;00m:\n\u001b[1;32m     14\u001b[0m     do_return \u001b[38;5;241m=\u001b[39m \u001b[38;5;28;01mTrue\u001b[39;00m\n\u001b[0;32m---> 15\u001b[0m     retval_ \u001b[38;5;241m=\u001b[39m ag__\u001b[38;5;241m.\u001b[39mconverted_call(ag__\u001b[38;5;241m.\u001b[39mld(step_function), (ag__\u001b[38;5;241m.\u001b[39mld(\u001b[38;5;28mself\u001b[39m), ag__\u001b[38;5;241m.\u001b[39mld(iterator)), \u001b[38;5;28;01mNone\u001b[39;00m, fscope)\n\u001b[1;32m     16\u001b[0m \u001b[38;5;28;01mexcept\u001b[39;00m:\n\u001b[1;32m     17\u001b[0m     do_return \u001b[38;5;241m=\u001b[39m \u001b[38;5;28;01mFalse\u001b[39;00m\n",
      "\u001b[0;31mValueError\u001b[0m: in user code:\n\n    File \"/home/ptesic@syrmia.com/.local/lib/python3.8/site-packages/keras/engine/training.py\", line 1284, in train_function  *\n        return step_function(self, iterator)\n    File \"/home/ptesic@syrmia.com/.local/lib/python3.8/site-packages/keras/engine/training.py\", line 1268, in step_function  **\n        outputs = model.distribute_strategy.run(run_step, args=(data,))\n    File \"/home/ptesic@syrmia.com/.local/lib/python3.8/site-packages/keras/engine/training.py\", line 1249, in run_step  **\n        outputs = model.train_step(data)\n    File \"/home/ptesic@syrmia.com/.local/lib/python3.8/site-packages/keras/engine/training.py\", line 1050, in train_step\n        y_pred = self(x, training=True)\n    File \"/home/ptesic@syrmia.com/.local/lib/python3.8/site-packages/keras/utils/traceback_utils.py\", line 70, in error_handler\n        raise e.with_traceback(filtered_tb) from None\n    File \"/home/ptesic@syrmia.com/.local/lib/python3.8/site-packages/keras/engine/input_spec.py\", line 298, in assert_input_compatibility\n        raise ValueError(\n\n    ValueError: Input 0 of layer \"sequential_3\" is incompatible with the layer: expected shape=(None, 64, 64, 3), found shape=(None, 48, 48)\n"
     ]
    }
   ],
   "source": [
    "#Treniramo model\n",
    "history = alexnet_model.fit(X_train, y_train, batch_size=BATCH_SIZE, epochs=EPOCHS, validation_split=0.2, verbose=1)"
   ]
  }
 ],
 "metadata": {
  "kernelspec": {
   "display_name": "Python 3 (ipykernel)",
   "language": "python",
   "name": "python3"
  },
  "language_info": {
   "codemirror_mode": {
    "name": "ipython",
    "version": 3
   },
   "file_extension": ".py",
   "mimetype": "text/x-python",
   "name": "python",
   "nbconvert_exporter": "python",
   "pygments_lexer": "ipython3",
   "version": "3.8.10"
  }
 },
 "nbformat": 4,
 "nbformat_minor": 5
}
