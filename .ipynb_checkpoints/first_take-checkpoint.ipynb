{
 "cells": [
  {
   "cell_type": "code",
   "execution_count": 1,
   "id": "b483a56d",
   "metadata": {},
   "outputs": [
    {
     "ename": "NameError",
     "evalue": "name 'images' is not defined",
     "output_type": "error",
     "traceback": [
      "\u001b[0;31m---------------------------------------------------------------------------\u001b[0m",
      "\u001b[0;31mNameError\u001b[0m                                 Traceback (most recent call last)",
      "Input \u001b[0;32mIn [1]\u001b[0m, in \u001b[0;36m<cell line: 15>\u001b[0;34m()\u001b[0m\n\u001b[1;32m      5\u001b[0m \u001b[38;5;28;01mfrom\u001b[39;00m \u001b[38;5;21;01msklearn\u001b[39;00m\u001b[38;5;21;01m.\u001b[39;00m\u001b[38;5;21;01mmetrics\u001b[39;00m \u001b[38;5;28;01mimport\u001b[39;00m classification_report, accuracy_score\n\u001b[1;32m      7\u001b[0m \u001b[38;5;66;03m# Step 1: Load Expression in-the-wild dataset\u001b[39;00m\n\u001b[1;32m      8\u001b[0m \u001b[38;5;66;03m# Assuming the dataset is already available in a directory named 'dataset'\u001b[39;00m\n\u001b[1;32m      9\u001b[0m \n\u001b[0;32m   (...)\u001b[0m\n\u001b[1;32m     13\u001b[0m \u001b[38;5;66;03m# Step 3: Training and Testing Split\u001b[39;00m\n\u001b[1;32m     14\u001b[0m \u001b[38;5;66;03m# Split the dataset into training and testing sets\u001b[39;00m\n\u001b[0;32m---> 15\u001b[0m X_train, X_test, y_train, y_test \u001b[38;5;241m=\u001b[39m train_test_split(\u001b[43mimages\u001b[49m, labels, test_size\u001b[38;5;241m=\u001b[39m\u001b[38;5;241m0.2\u001b[39m, random_state\u001b[38;5;241m=\u001b[39m\u001b[38;5;241m42\u001b[39m)\n\u001b[1;32m     17\u001b[0m \u001b[38;5;66;03m# Step 4: Feature Extraction\u001b[39;00m\n\u001b[1;32m     18\u001b[0m \u001b[38;5;66;03m# Implement feature extraction techniques such as LBP or HOG\u001b[39;00m\n\u001b[1;32m     19\u001b[0m \u001b[38;5;66;03m# Extract features from X_train and X_test\u001b[39;00m\n\u001b[1;32m     20\u001b[0m \n\u001b[1;32m     21\u001b[0m \u001b[38;5;66;03m# Step 5: Model Selection and Training\u001b[39;00m\n\u001b[1;32m     22\u001b[0m \u001b[38;5;66;03m# Choose a machine learning model and train it on the extracted features\u001b[39;00m\n\u001b[1;32m     23\u001b[0m model \u001b[38;5;241m=\u001b[39m SVC(kernel\u001b[38;5;241m=\u001b[39m\u001b[38;5;124m'\u001b[39m\u001b[38;5;124mrbf\u001b[39m\u001b[38;5;124m'\u001b[39m, C\u001b[38;5;241m=\u001b[39m\u001b[38;5;241m1.0\u001b[39m, gamma\u001b[38;5;241m=\u001b[39m\u001b[38;5;124m'\u001b[39m\u001b[38;5;124mscale\u001b[39m\u001b[38;5;124m'\u001b[39m)\n",
      "\u001b[0;31mNameError\u001b[0m: name 'images' is not defined"
     ]
    }
   ],
   "source": [
    "import numpy as np\n",
    "import cv2\n",
    "from sklearn.model_selection import train_test_split\n",
    "from sklearn.svm import SVC\n",
    "from sklearn.metrics import classification_report, accuracy_score\n",
    "\n",
    "# Step 1: Load Expression in-the-wild dataset\n",
    "# Assuming the dataset is already available in a directory named 'dataset'\n",
    "\n",
    "# Step 2: Preprocessing\n",
    "# Implement preprocessing techniques such as face detection and alignment\n",
    "\n",
    "# Step 3: Training and Testing Split\n",
    "# Split the dataset into training and testing sets\n",
    "X_train, X_test, y_train, y_test = train_test_split(images, labels, test_size=0.2, random_state=42)\n",
    "\n",
    "# Step 4: Feature Extraction\n",
    "# Implement feature extraction techniques such as LBP or HOG\n",
    "# Extract features from X_train and X_test\n",
    "\n",
    "# Step 5: Model Selection and Training\n",
    "# Choose a machine learning model and train it on the extracted features\n",
    "model = SVC(kernel='rbf', C=1.0, gamma='scale')\n",
    "model.fit(X_train, y_train)\n",
    "\n",
    "# Step 6: Model Evaluation\n",
    "# Evaluate the trained model on the testing set\n",
    "y_pred = model.predict(X_test)\n",
    "accuracy = accuracy_score(y_test, y_pred)\n",
    "report = classification_report(y_test, y_pred)\n",
    "print(\"Accuracy:\", accuracy)\n",
    "print(\"Classification Report:\")\n",
    "print(report)\n",
    "\n",
    "# Step 7: Fine-tuning and Hyperparameter Optimization\n",
    "# Fine-tune the model by adjusting hyperparameters and evaluating the performance\n",
    "\n",
    "# Step 8: Model Deployment\n",
    "# Implement an interface or application for real-time facial expression recognition\n",
    "\n",
    "# Step 9: Documentation and Reporting\n",
    "# Document the project, methodology, and findings\n",
    "\n"
   ]
  },
  {
   "cell_type": "code",
   "execution_count": 1,
   "id": "1b19a0af",
   "metadata": {},
   "outputs": [],
   "source": [
    "import os\n",
    "from PIL import Image"
   ]
  },
  {
   "cell_type": "code",
   "execution_count": 2,
   "id": "e42702b9",
   "metadata": {},
   "outputs": [],
   "source": [
    "def load_fer2013(dataset_directory, data):\n",
    "\n",
    "    if (data.lower() != 'train' and data.lower() != 'test'):\n",
    "        raise Exception(\"Data can only be type of train or test\") \n",
    "        return\n",
    "    \n",
    "    # Create an empty list to store image data and labels\n",
    "    images = []\n",
    "    labels = []\n",
    "\n",
    "    # Define a dictionary to map emotions to numerical labels\n",
    "    emotion_to_label = {\n",
    "        'angry': 0,\n",
    "        'disgust': 1,\n",
    "        'fear': 2,\n",
    "        'happy': 3,\n",
    "        'sad': 4,\n",
    "        'surprise': 5,\n",
    "        'neutral': 6\n",
    "    }\n",
    "    \n",
    "    data_directory = dataset_directory + '/' + data\n",
    "    \n",
    "    # List the subdirectories (emotion folders) in the dataset directory\n",
    "    emotion_folders = os.listdir(data_directory)\n",
    "\n",
    "    # Traverse through each subdirectory\n",
    "    for emotion_folder in emotion_folders:\n",
    "        emotion_path = os.path.join(data_directory, emotion_folder)\n",
    "\n",
    "        # Get the numerical label for the emotion\n",
    "        label = emotion_to_label[emotion_folder]\n",
    "\n",
    "        # Loop through image files in the folder\n",
    "        for image_filename in os.listdir(emotion_path):\n",
    "            image_path = os.path.join(emotion_path, image_filename)\n",
    "\n",
    "            # Open and process the image using PIL\n",
    "            with Image.open(image_path) as image:\n",
    "\n",
    "                # Append the image data and label to the lists\n",
    "                images.append(image)\n",
    "                labels.append(label)\n",
    "\n",
    "            \n",
    "    return images, labels"
   ]
  },
  {
   "cell_type": "code",
   "execution_count": 3,
   "id": "fdbb8672",
   "metadata": {},
   "outputs": [],
   "source": [
    "images, labels = load_fer2013('datasets/FER2013', 'train')"
   ]
  },
  {
   "cell_type": "code",
   "execution_count": null,
   "id": "491d6373",
   "metadata": {},
   "outputs": [],
   "source": []
  },
  {
   "cell_type": "code",
   "execution_count": 5,
   "id": "6ef28922",
   "metadata": {},
   "outputs": [
    {
     "name": "stderr",
     "output_type": "stream",
     "text": [
      "2023-09-11 17:22:54.111422: I tensorflow/tsl/cuda/cudart_stub.cc:28] Could not find cuda drivers on your machine, GPU will not be used.\n",
      "2023-09-11 17:22:54.275649: I tensorflow/tsl/cuda/cudart_stub.cc:28] Could not find cuda drivers on your machine, GPU will not be used.\n",
      "2023-09-11 17:22:54.276639: I tensorflow/core/platform/cpu_feature_guard.cc:182] This TensorFlow binary is optimized to use available CPU instructions in performance-critical operations.\n",
      "To enable the following instructions: AVX2 FMA, in other operations, rebuild TensorFlow with the appropriate compiler flags.\n",
      "2023-09-11 17:22:55.282873: W tensorflow/compiler/tf2tensorrt/utils/py_utils.cc:38] TF-TRT Warning: Could not find TensorRT\n"
     ]
    }
   ],
   "source": [
    "import tensorflow as tf\n",
    "from tensorflow import keras\n",
    "from tensorflow.keras import layers"
   ]
  },
  {
   "cell_type": "code",
   "execution_count": 6,
   "id": "0b1e1b08",
   "metadata": {},
   "outputs": [
    {
     "name": "stdout",
     "output_type": "stream",
     "text": [
      "Model: \"sequential\"\n",
      "_________________________________________________________________\n",
      " Layer (type)                Output Shape              Param #   \n",
      "=================================================================\n",
      " conv2d (Conv2D)             (None, 48, 48, 32)        320       \n",
      "                                                                 \n",
      " max_pooling2d (MaxPooling2D  (None, 24, 24, 32)       0         \n",
      " )                                                               \n",
      "                                                                 \n",
      " dropout (Dropout)           (None, 24, 24, 32)        0         \n",
      "                                                                 \n",
      " conv2d_1 (Conv2D)           (None, 24, 24, 64)        18496     \n",
      "                                                                 \n",
      " max_pooling2d_1 (MaxPooling  (None, 12, 12, 64)       0         \n",
      " 2D)                                                             \n",
      "                                                                 \n",
      " dropout_1 (Dropout)         (None, 12, 12, 64)        0         \n",
      "                                                                 \n",
      " flatten (Flatten)           (None, 9216)              0         \n",
      "                                                                 \n",
      " dense (Dense)               (None, 128)               1179776   \n",
      "                                                                 \n",
      " dropout_2 (Dropout)         (None, 128)               0         \n",
      "                                                                 \n",
      " dense_1 (Dense)             (None, 7)                 903       \n",
      "                                                                 \n",
      "=================================================================\n",
      "Total params: 1,199,495\n",
      "Trainable params: 1,199,495\n",
      "Non-trainable params: 0\n",
      "_________________________________________________________________\n"
     ]
    }
   ],
   "source": [
    "# Preprocess the images (resize, normalize, etc.)\n",
    "# You can use functions from libraries like OpenCV or TensorFlow for this.\n",
    "\n",
    "# Create a convolutional neural network (CNN) model\n",
    "model = keras.Sequential([\n",
    "    layers.Input(shape=(48, 48, 1)),  # Assuming grayscale images with a size of 48x48 pixels\n",
    "\n",
    "    layers.Conv2D(32, (3, 3), activation='relu', padding='same'),\n",
    "    layers.MaxPooling2D((2, 2)),\n",
    "    layers.Dropout(0.25),\n",
    "\n",
    "    layers.Conv2D(64, (3, 3), activation='relu', padding='same'),\n",
    "    layers.MaxPooling2D((2, 2)),\n",
    "    layers.Dropout(0.25),\n",
    "\n",
    "    layers.Flatten(),\n",
    "    \n",
    "    layers.Dense(128, activation='relu'),\n",
    "    layers.Dropout(0.5),\n",
    "\n",
    "    layers.Dense(7, activation='softmax')  # 7 output classes for 7 emotions\n",
    "])\n",
    "\n",
    "# Compile the model\n",
    "model.compile(optimizer='adam',\n",
    "              loss='sparse_categorical_crossentropy',\n",
    "              metrics=['accuracy'])\n",
    "\n",
    "# Print a summary of the model architecture\n",
    "model.summary()\n",
    "\n"
   ]
  },
  {
   "cell_type": "code",
   "execution_count": null,
   "id": "d5efe2dc",
   "metadata": {},
   "outputs": [],
   "source": []
  },
  {
   "cell_type": "code",
   "execution_count": 7,
   "id": "4a73ce1d",
   "metadata": {},
   "outputs": [],
   "source": [
    "import pandas as pd\n",
    "import numpy as np\n",
    "import os\n",
    "import cv2"
   ]
  },
  {
   "cell_type": "code",
   "execution_count": 76,
   "id": "7ef73928",
   "metadata": {},
   "outputs": [],
   "source": [
    "def load_data(data_path):\n",
    "\n",
    "    data_dir_list = os.listdir(data_path)\n",
    "\n",
    "    img_data_list = []\n",
    "    img_label_list = []\n",
    "\n",
    "    # Traverse through each folder\n",
    "    for dataset in data_dir_list:\n",
    "        if os.path.isdir(data_path + '/' +  dataset):\n",
    "            img_list=os.listdir(data_path+'/'+ dataset)\n",
    "            \n",
    "            # Resize each image\n",
    "            for img in img_list:\n",
    "                input_img=cv2.imread(data_path + '/'+ dataset + '/'+ img )\n",
    "\n",
    "                # Convert image to grayscale\n",
    "                input_img_gray = cv2.cvtColor(input_img, cv2.COLOR_BGR2GRAY)\n",
    "\n",
    "                input_img_resize=cv2.resize(input_img_gray,(48,48))\n",
    "                img_data_list.append(input_img_resize)\n",
    "                img_label_list.append(dataset)\n",
    "                \n",
    "    img_data = np.array(img_data_list)\n",
    "    img_labels = np.array(img_label_list)\n",
    "    \n",
    "    # Normalize the pixel values to the range [0, 1]\n",
    "    img_data = img_data.astype('float32') / 255.0\n",
    "\n",
    "    return img_data, img_labels"
   ]
  },
  {
   "cell_type": "code",
   "execution_count": 77,
   "id": "883cb2f3",
   "metadata": {},
   "outputs": [],
   "source": [
    "images, labels = load_ckp('datasets/ck+/')"
   ]
  },
  {
   "cell_type": "code",
   "execution_count": 79,
   "id": "7a90a9a6",
   "metadata": {},
   "outputs": [
    {
     "data": {
      "image/png": "[encoded data removed]",
      "text/plain": [
       "<Figure size 640x480 with 1 Axes>"
      ]
     },
     "metadata": {},
     "output_type": "display_data"
    },
    {
     "name": "stdout",
     "output_type": "stream",
     "text": [
      "fear\n"
     ]
    }
   ],
   "source": [
    "from matplotlib import pyplot as plt\n",
    "\n",
    "# Assuming 'image' is your 48x48 image with values between 0 and 1\n",
    "plt.imshow(images[1], cmap='gray') \n",
    "plt.axis('off')  \n",
    "plt.show()\n",
    "print(labels[1])"
   ]
  },
  {
   "cell_type": "code",
   "execution_count": 57,
   "id": "4d5fccea",
   "metadata": {},
   "outputs": [
    {
     "data": {
      "text/plain": [
       "(327, 48, 48)"
      ]
     },
     "execution_count": 57,
     "metadata": {},
     "output_type": "execute_result"
    }
   ],
   "source": []
  },
  {
   "cell_type": "code",
   "execution_count": 67,
   "id": "17815d4c",
   "metadata": {},
   "outputs": [],
   "source": []
  },
  {
   "cell_type": "code",
   "execution_count": 73,
   "id": "c15dbcca",
   "metadata": {},
   "outputs": [],
   "source": []
  },
  {
   "cell_type": "code",
   "execution_count": 74,
   "id": "c42de133",
   "metadata": {},
   "outputs": [
    {
     "data": {
      "image/png": "[encoded data removed]",
      "text/plain": [
       "<Figure size 640x480 with 1 Axes>"
      ]
     },
     "metadata": {},
     "output_type": "display_data"
    }
   ],
   "source": []
  },
  {
   "cell_type": "code",
   "execution_count": null,
   "id": "ff0c39d5",
   "metadata": {},
   "outputs": [],
   "source": []
  }
 ],
 "metadata": {
  "kernelspec": {
   "display_name": "Python 3 (ipykernel)",
   "language": "python",
   "name": "python3"
  },
  "language_info": {
   "codemirror_mode": {
    "name": "ipython",
    "version": 3
   },
   "file_extension": ".py",
   "mimetype": "text/x-python",
   "name": "python",
   "nbconvert_exporter": "python",
   "pygments_lexer": "ipython3",
   "version": "3.10.12"
  }
 },
 "nbformat": 4,
 "nbformat_minor": 5
}
